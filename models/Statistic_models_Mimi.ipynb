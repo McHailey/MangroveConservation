{
 "cells": [
  {
   "cell_type": "markdown",
   "metadata": {},
   "source": [
    "# <center>Using regression analysis on panel data in identifying the key socio-economic indicators of mangrove forest change</center>\n",
    "\n",
    "<center>by #Mimi Gong#</center>"
   ]
  },
  {
   "cell_type": "markdown",
   "metadata": {},
   "source": [
    "---\n",
    "# Introduction\n",
    "\n",
    "Although environmental impacts such as mangrove deforestation are happening locally, the forces that shape local decisions and conservation policies are increasingly global. Therefore, to achieve the sustainability goals of meeting food security requirements and maintaining natural resources requires an understanding of how interactions among distant and local forces shape local landscapes. This study aims to investigate how the global market is interacting with local mangrove coupled human-nature systems (CHANS) and to quantity CHANS flows across multiple geographic spaces and their synergies and feedbacks. We applied the IPAT/STIRPAT model to perform a panel analysis of data from a broad group of countries to quantify socio-economic drivers of local mangrove habitat loss from five stressors: population, economic activities, technology, government effectiveness, and geographic information. We find that consumers’ expenditures embodied through international trade activities from nearby countries are a statistically significant driver of mangrove deforestation over the 2000-2017 period. In addition, government effectiveness has negative impacts on mangrove loss over time: on average, increase of one percent of government effectiveness increase contributes to 0.124 (p<0.05) decrease of mangrove loss in a country. These results provide robust explanations for mangrove loss on a global scale and can serve as a starting point for a more sophisticated investigation on how consumptions are enhancing mangrove loss and what factors drive the variation in mangrove loss among countries. "
   ]
  },
  {
   "cell_type": "markdown",
   "metadata": {},
   "source": [
    "# Method\n",
    "Let y_it denote the mangrove loss per capita for country i at time period t, which will be the dependent variable in our regression analysis. Let x_it be the 1×K row vector of explanatory variable and c_i represent the country-specific unobserved heterogeneity (also called fixed effects).  As y_it is continuous over the range of the real line, it is not too restrictive to use a linear panel data model to examine the relationship between \n",
    "y_it and x_it.\n",
    "\n",
    "𝑦𝑖𝑡=𝛽1+𝑥𝑖𝑡2𝛽2+𝑥𝑖𝑡3𝛽3+⋯+𝑥𝑖𝑡𝐾𝛽𝐾+𝑐𝑖+𝑢𝑖𝑡\n",
    "\n",
    "Or in vector form \n",
    "\n",
    "𝑦𝑖𝑡=𝑥𝑖𝑡𝛽+𝑐𝑖+𝑢𝑖𝑡\n",
    "\n",
    "where 𝛽=(𝛽1,𝛽2,…,𝛽𝐾)′ is the 𝐾×1 parameter vector and 𝑢𝑖𝑡 is the idiosyncratic error term. \n",
    "\n",
    "Two important questions need to be addressed regarding our panel data analysis. The first one is what variables\n",
    "to be included in 𝑥𝑖𝑡. We will follow the previous theoretical model (STIRPAT/IPAT) to select various variables\n",
    "and test their significance based on our regression analysis. Another critical issue in the panel data analysis is the correlation between 𝑐𝑖 and 𝑥𝑖𝑡 . If our selected explanatory variables are properly exogenous, in the sense that they are uncorrelated with the unobserved heterogeneity, then the random-effects approach is attractive as it accounts for the variance of the additive error term 𝑐𝑖+𝑢𝑖𝑡. On the other hand, if we suspect that some or all of the explanatory variables are correlated with the unobserved heterogeneity, then the fixed-effects approach is appealing as it eliminates the fixed effects by demeaning the data. It is also well-known that the fixed-effects estimation method cannot identify the parameters associated with time-constant variables. Our primary interest in this chapter focuses on the effects of several time-varying variables though some geographical variables, which is time-constant might also be of some interest. To compare the regression results from the random-effects estimation and the fixed effects estimation, we employ the Hausman testing statistic. A large value of the Hausman statistic suggests that the fixed-effects estimator is more reliable, and the random-effects estimator is inconsistent. \n"
   ]
  },
  {
   "cell_type": "markdown",
   "metadata": {},
   "source": [
    "---\n",
    "# References\n",
    "\n",
    "Barbier, E. B., & Burgess, J. C. (2002). The Economics of Tropical Deforestation. Journal of Economic Surveys, 15(3), 413–433. https://doi.org/10.1111/1467-6419.00144\n",
    "\n",
    "Barbier, Edward B., & Cox, M. (2003). Does Economic Development Lead to Mangrove Loss? A Cross-Country Analysis. Contemporary Economic Policy, 21(4), 418–432. https://doi.org/10.1093/cep/byg022\n",
    "\n",
    "Carter, N., Viña, A., Hull, V., McConnell, W., Axinn, W., Ghimire, D., & Liu, J. (2014). Coupled human and natural systems approach to wildlife research and conservation. Ecology and Society, 19(3). https://doi.org/10.5751/ES-06881-190343\n",
    "\n",
    "Giri, C., Ochieng, E., Tieszen, L. L., Zhu, Z., Singh, A., Loveland, T., Masek, J., & Duke, N. (2011). Status and distribution of mangrove forests of the world using earth observation satellite data. Global Ecology and Biogeography, 20(1), 154–159. https://doi.org/10.1111/j.1466-8238.2010.00584.x\n",
    "\n",
    "Ha, T. T. T., van Dijk, H., & Bush, S. R. (2012). Mangrove conservation or shrimp farmer’s livelihood? The devolution of forest management and benefit sharing in the Mekong Delta, Vietnam. Ocean & Coastal Management, 69, 185–193. https://doi.org/10.1016/j.ocecoaman.2012.07.034\n",
    "\n",
    "Hansen, M. C., Potapov, P. V., Moore, R., Hancher, M., Turubanova, S. A., Tyukavina, A., Thau, D., Stehman, S. V., Goetz, S. J., Loveland, T. R., Kommareddy, A., Egorov, A., Chini, L., Justice, C. O., & Townshend, J. R. G. (2013). High-resolution global maps of 21st-century forest cover change. Science (New York, N.Y.), 342(6160), 850–853. https://doi.org/10.1126/science.1244693\n",
    "\n"
   ]
  }
 ],
 "metadata": {
  "anaconda-cloud": {},
  "kernelspec": {
   "display_name": "Python 3",
   "language": "python",
   "name": "python3"
  },
  "language_info": {
   "codemirror_mode": {
    "name": "ipython",
    "version": 3
   },
   "file_extension": ".py",
   "mimetype": "text/x-python",
   "name": "python",
   "nbconvert_exporter": "python",
   "pygments_lexer": "ipython3",
   "version": "3.7.3"
  }
 },
 "nbformat": 4,
 "nbformat_minor": 1
}
