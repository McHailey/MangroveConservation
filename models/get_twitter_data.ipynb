{
 "cells": [
  {
   "cell_type": "code",
   "execution_count": 6,
   "metadata": {},
   "outputs": [
    {
     "ename": "ModuleNotFoundError",
     "evalue": "No module named 'TwitterAPI'",
     "output_type": "error",
     "traceback": [
      "\u001b[0;31m---------------------------------------------------------------------------\u001b[0m",
      "\u001b[0;31mModuleNotFoundError\u001b[0m                       Traceback (most recent call last)",
      "\u001b[0;32m<ipython-input-6-b43ddab5785e>\u001b[0m in \u001b[0;36m<module>\u001b[0;34m\u001b[0m\n\u001b[1;32m      3\u001b[0m \u001b[0;31m# Reference: https://developer.twitter.com/en/docs/tweets/search/overview\u001b[0m\u001b[0;34m\u001b[0m\u001b[0;34m\u001b[0m\u001b[0;34m\u001b[0m\u001b[0m\n\u001b[1;32m      4\u001b[0m \u001b[0;34m\u001b[0m\u001b[0m\n\u001b[0;32m----> 5\u001b[0;31m \u001b[0;32mfrom\u001b[0m \u001b[0mTwitterAPI\u001b[0m \u001b[0;32mimport\u001b[0m \u001b[0mTwitterAPI\u001b[0m\u001b[0;34m,\u001b[0m \u001b[0mTwitterPager\u001b[0m\u001b[0;34m\u001b[0m\u001b[0;34m\u001b[0m\u001b[0m\n\u001b[0m\u001b[1;32m      6\u001b[0m \u001b[0;32mimport\u001b[0m \u001b[0mcsv\u001b[0m\u001b[0;34m\u001b[0m\u001b[0;34m\u001b[0m\u001b[0m\n\u001b[1;32m      7\u001b[0m \u001b[0;34m\u001b[0m\u001b[0m\n",
      "\u001b[0;31mModuleNotFoundError\u001b[0m: No module named 'TwitterAPI'"
     ]
    }
   ],
   "source": [
    "# Collecting Twitter historical data using TwitterAPI\n",
    "# Reference: https://github.com/geduldig/TwitterAPI/tree/master/TwitterAPI\n",
    "# Reference: https://developer.twitter.com/en/docs/tweets/search/overview\n",
    "search term = (mangrove ecosystems)OR(mangrove forests)OR(Mangrove Ecosystems)OR(Mangrove Forests)OR(Mangrove Ecosystems)OR(Mangrove Forests)\n",
    "search_location = CH\n",
    "start_time =20150101\n",
    "end_time=20191231\n",
    "from TwitterAPI import TwitterAPI, TwitterPager\n",
    "import csv\n",
    "def get_data(search_term,search_location,start_time,end_time):\n",
    "    \"\"\"this function is to get twitter data through twitter API from full archive search sand box and return all twitters\n",
    "    based on certain search term, the geographic location of interest and the time period of interest.\n",
    "    \"\"\"\n",
    "\n",
    "    api = TwitterAPI(\"eNpG2G70aY2KKujwtlWkvcJoS\",\n",
    "                 \"fgk44fdHs9WpYEDtKm1w3UKpSLN2Md61cD0RNmlftrKmifykuB\",\n",
    "                 \"2972155805-0NuM9ND8aZ0PA77G5kUBzHNFOefI4090JAxszws\",\n",
    "                 \"E7idsdPtc6VlvIRNUrROx5pTvzTon38alLZ9PooHVVhBe\")\n",
    "    SEARCH_TERM = '-RT'+ search_term+  'lang:en' # sandbox does not support \"has:geo\"\n",
    "    \n",
    "    PRODUCT = 'fullarchive' \n",
    "    LABEL = 'search'\n",
    "    r = api.request('tweets/search/%s/:%s' % (PRODUCT, LABEL),\n",
    "                    {'query':SEARCH_TERM,\n",
    "                     'fromDate':start_time +'0000', \n",
    "                     'toDate':end_time+'0000',\n",
    "                     })\n",
    "    return r\n",
    "# write tweets into a csv file\n",
    "file_name = 'mangrove_twitters_'+search_location +start_time+end_time\n",
    "def write_twitter(r, file_name):\n",
    "        \"\"\"this function is to store the twitters into a file with only attributed of interest\n",
    "    \"\"\"\n",
    "\n",
    "    csvFile = open(file_name,'a')\n",
    "    csvWriter = csv.writer(csvFile)\n",
    "\n",
    "    counter = 0\n",
    "    for item in r:\n",
    "        if 'extended_tweet' in item: # to avoid truncated tweets\n",
    "            csvWriter.writerow([item['created_at'],item['user']['screen_name'], item['user']['location'], \n",
    "                            item['user']['followers_count'], item['user']['friends_count'], \n",
    "                            item['user']['verified'], item['coordinates'], item['retweet_count'], \n",
    "                            item['favorite_count'], item['extended_tweet']['full_text']])\n",
    "        else:\n",
    "            csvWriter.writerow([item['created_at'],item['user']['screen_name'], item['user']['location'], \n",
    "                            item['user']['followers_count'], item['user']['friends_count'], \n",
    "                            item['user']['verified'], item['coordinates'], item['retweet_count'], \n",
    "                            item['favorite_count'], item['text']])\n",
    "        counter = counter + 1\n",
    "        if (counter == 100): # rate limit 100 responses per request\n",
    "        break\n",
    "\n",
    "    csvFile.close()\n"
   ]
  },
  {
   "cell_type": "code",
   "execution_count": 5,
   "metadata": {},
   "outputs": [
    {
     "ename": "NameError",
     "evalue": "name 'impor' is not defined",
     "output_type": "error",
     "traceback": [
      "\u001b[0;31m---------------------------------------------------------------------------\u001b[0m",
      "\u001b[0;31mNameError\u001b[0m                                 Traceback (most recent call last)",
      "\u001b[0;32m<ipython-input-5-534fa92c925d>\u001b[0m in \u001b[0;36m<module>\u001b[0;34m\u001b[0m\n\u001b[0;32m----> 1\u001b[0;31m \u001b[0mimpor\u001b[0m\u001b[0;34m\u001b[0m\u001b[0;34m\u001b[0m\u001b[0m\n\u001b[0m",
      "\u001b[0;31mNameError\u001b[0m: name 'impor' is not defined"
     ]
    }
   ],
   "source": [
    "import TwitterAPI"
   ]
  },
  {
   "cell_type": "code",
   "execution_count": null,
   "metadata": {},
   "outputs": [],
   "source": []
  }
 ],
 "metadata": {
  "kernelspec": {
   "display_name": "Python 3",
   "language": "python",
   "name": "python3"
  },
  "language_info": {
   "codemirror_mode": {
    "name": "ipython",
    "version": 3
   },
   "file_extension": ".py",
   "mimetype": "text/x-python",
   "name": "python",
   "nbconvert_exporter": "python",
   "pygments_lexer": "ipython3",
   "version": "3.7.3"
  }
 },
 "nbformat": 4,
 "nbformat_minor": 2
}
