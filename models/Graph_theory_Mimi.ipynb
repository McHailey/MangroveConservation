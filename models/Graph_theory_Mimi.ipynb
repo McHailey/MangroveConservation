{
 "cells": [
  {
   "cell_type": "markdown",
   "metadata": {},
   "source": [
    "# <center>Using network analysis to link public perception with mangrove conservation and deforestation</center>\n",
    "\n",
    "<center>by Mimi Gong</center>"
   ]
  },
  {
   "cell_type": "markdown",
   "metadata": {},
   "source": [
    "---\n",
    "From the previous proposal, I have demonstrated that it would be an interesting topic to see how different ideologies related to mangrove conservation flow between systems and how these changes of perception are related to mangrove deforestation in the real-world. Our key questions addressed in this research are: a) What are the values/attitudes related to mangrove conservation?  b) How values/perceptions are changing with time? c) Does that align with government/non-government policy and actions and turn into conservation success?\n",
    "\n",
    "Once we can build the connection between perceptions and real-world mangrove conservation facts, the next important topic will investigate how different ideologies are flowing among communities and how different communities form around different ideologies. The use of the social network is one of the most potent ways to bring systematic ways of thinking and conduct such analysis to answer the question. Compared to the foundation questions, the answer to this question has a more realistic value that will help to identify effective mangrove management strategies and evaluate different conservation policies(Thongphubate & Piekkoontod, 2016). \n",
    "\n",
    "Social network analysis is an approach to map and measure the relationships between people, groups, discussion topics, and the dissemination of ideas(Wellman, 2001). Conceptually, a social network contains a set of nodes and links connecting the nodes. Therefore, in social media content, nodes can be individuals, posts or topics that are linked by either online interactions such as likes, followership, friendships or shares. In my research, I can form a social network to understand how ideas, values, and opinions spread in the system, and how different communities form around specific topics or opinions. Therefore, I can identify the influential actors in the mangrove conservation debate and evaluate the influence of diverse communities in their effectiveness of implementing conservation management and policies(Toivonen et al, 2019).\n",
    "\n",
    "To be more specific, the user profile provides certain degrees of information about the social media account holder; for example, the description(“bio”) can reveal the background differences among users. In addition, the geographic location of the users, and the place of residence, age, gender, nationality, and origin of the user can help us to identify different groups of users and communities. Through the sentiment classification framework of Webis, we can identify the sentiment (positive, neutral, negative) of all posts related to mangrove topics and identify the social network of communities in discussing different emotions. From it, we can identify the core communities for positive mangrove discussions and can discover how the user information is linked with their opinions in the posts and spatial patterns of the posts, which will be different among different groups of people.  From the analysis, we can obtain knowledge on people’s behavior, and how human interacts with environmental issues, which are significant to understand for successful mangrove conservation actions. \n",
    "\n"
   ]
  },
  {
   "cell_type": "markdown",
   "metadata": {},
   "source": [
    "---\n",
    "# References\n",
    "Thongphubate, T., & Piekkoontod, T. (2016). Social network analysis on mangrove ecosystem management of Welu Basin, Thailand. 6.\n",
    "\n",
    "Toivonen, T., Heikinheimo, V., Fink, C., Hausmann, A., Hiippala, T., Järv, O., Tenkanen, H., & Di Minin, E. (2019). Social media data for conservation science: A methodological overview. Biological Conservation, 233, 298–315. https://doi.org/10.1016/j.biocon.2019.01.023\n",
    "\n",
    "Wellman, B. (2001). Computer Networks As Social Networks. Science, 293(5537), 2031–2034. https://doi.org/10.1126/science.1065547\n",
    "\n"
   ]
  }
 ],
 "metadata": {
  "anaconda-cloud": {},
  "kernelspec": {
   "display_name": "Python 3",
   "language": "python",
   "name": "python3"
  },
  "language_info": {
   "codemirror_mode": {
    "name": "ipython",
    "version": 3
   },
   "file_extension": ".py",
   "mimetype": "text/x-python",
   "name": "python",
   "nbconvert_exporter": "python",
   "pygments_lexer": "ipython3",
   "version": "3.7.3"
  }
 },
 "nbformat": 4,
 "nbformat_minor": 1
}
