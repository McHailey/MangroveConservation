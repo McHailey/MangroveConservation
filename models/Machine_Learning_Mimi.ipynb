{
 "cells": [
  {
   "cell_type": "markdown",
   "metadata": {},
   "source": [
    "# <center>Linking global international trade with local mangrove conservation outcomes: a Random Forest supervised classification analysis in Sembilang National Park, Indonesia from 2000 to 2017</center>\n",
    "\n",
    "<center>by Mimi Gong</center>"
   ]
  },
  {
   "cell_type": "markdown",
   "metadata": {},
   "source": [
    "---\n",
    "# Abstract\n",
    "\n",
    "Although conservation efforts are always implemented locally, the forces that shape the decision-making process and conservation policy are increasingly global. To simultaneously promote human prosperity while protecting biodiversity requires an understanding of how interactions between local and global forces shape conservation management. Focusing on the mangrove ecosystem, this study concentrates on Sebilang National Park in Indonesia as a pilot site to investigate how global material exchanges may influence ecosystem conservation efforts. Through Random Forest supervised classification identifying land use and land cover change (LULCC) in the park between 2000 and 2017, the study aims to evaluate conservation effectiveness along with increasingly global demands from international trade such as aquaculture, palm oil, and agriculture, which are the main mangrove loss threats in Southeast Asia(reference). The results indicate a 10% increase of mangrove forest due to local mangrove restoration project to transform fish ponds and agriculture lands. However, a booming growth of palm oil has been identified in the park with a surprisingly 390% increase during the period. Our study approves the effectiveness of mangrove conservation efforts in this national park but highlights the potential mangrove deforestation due to palm oil plantation expansion. Although for the moment, palm oil plantation has not replaced mangrove forests, this booming area increase of land use type for the past thirty years, even in the national park, indicates its current popularity in Indonesia for large-scale commodity production under prosperous global demands. This study brings us an awareness to closely monitor and understand the spatial and temporal variation in the mangrove landscape in Indonesia. Future research and policies should address more on monitoring of mangrove deforestation driven by palm oil industries and conserve mangrove forest ecosystems in the area using cutting-edge remote sensing technologies.\n",
    "\n",
    "(One chapter of my dissertation used random forest supervised classification, which is a common method in machine learning. Therefore, I put the abstract of the chapter as my homework.)\n"
   ]
  },
  {
   "cell_type": "markdown",
   "metadata": {},
   "source": [
    "---\n",
    "# References\n",
    "\n",
    "Dalin, Carole, Megan Konar, Naota Hanasaki, Andrea Rinaldo, and Ignacio Rodriguez-Iturbe. “Evolution of the Global Virtual Water Trade Network.” Proceedings of the National Academy of Sciences 109, no. 16 (April 17, 2012): 5989–94. https://doi.org/10.1073/pnas.1203176109.\n",
    "\n",
    "Friess, Daniel A. “Ecosystem Services and Disservices of Mangrove Forests: Insights from Historical Colonial Observations.” Forests 7, no. 9 (September 2016): 183. https://doi.org/10.3390/f7090183.\n",
    "\n",
    "Friis, Cecilie, Jonas Østergaard Nielsen, Iago Otero, Helmut Haberl, Jörg Niewöhner, and Patrick Hostert. “From Teleconnection to Telecoupling: Taking Stock of an Emerging Framework in Land System Science.” Journal of Land Use Science 11, no. 2 (March 3, 2016): 131–53. https://doi.org/10.1080/1747423X.2015.1096423.\n",
    "\n",
    "Liu, Jianguo, Vanessa Hull, Mateus Batistella, Ruth DeFries, Thomas Dietz, Feng Fu, Thomas Hertel, et al. “Framing Sustainability in a Telecoupled World.” Ecology and Society 18, no. 2 (June 17, 2013). https://doi.org/10.5751/ES-05873-180226.\n",
    "\n",
    "M. Brander, Luke, Alfred J. Wagtendonk, Salman S. Hussain, Alistair McVittie, Peter H. Verburg, Rudolf S. de Groot, and Sander van der Ploeg. “Ecosystem Service Values for Mangroves in Southeast Asia: A Meta-Analysis and Value Transfer Application.” Ecosystem Services 1, no. 1 (July 1, 2012): 62–69. https://doi.org/10.1016/j.ecoser.2012.06.003.\n",
    "\n",
    "Manuri, Solichin, Chandra Agung Septiadi Putra, Teguh Imansyah, Joko Purbopuspito, and Matthew Warren. C-Stock Assessment of Mangrove Ecosystem at Sembilang National Park, South Sumatra, Indonesia, 2011. https://doi.org/10.13140/2.1.3600.8965.\n",
    "\n",
    "“Mapping of CO2 at High Spatiotemporal Resolution Using Satellite Observations: Global Distributions from OCO‐2 - Hammerling - 2012 - Journal of Geophysical Research: Atmospheres - Wiley Online Library.” Accessed July 3, 2018. https://agupubs.onlinelibrary.wiley.com/doi/full/10.1029/2011JD017015.\n",
    "\n"
   ]
  }
 ],
 "metadata": {
  "anaconda-cloud": {},
  "kernelspec": {
   "display_name": "Python 3",
   "language": "python",
   "name": "python3"
  },
  "language_info": {
   "codemirror_mode": {
    "name": "ipython",
    "version": 3
   },
   "file_extension": ".py",
   "mimetype": "text/x-python",
   "name": "python",
   "nbconvert_exporter": "python",
   "pygments_lexer": "ipython3",
   "version": "3.7.3"
  }
 },
 "nbformat": 4,
 "nbformat_minor": 1
}
