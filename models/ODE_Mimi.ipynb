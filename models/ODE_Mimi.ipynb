{
 "cells": [
  {
   "cell_type": "markdown",
   "metadata": {},
   "source": [
    "# <center>Using Ordinary Differential Equations (ODEs) in development studies</center>\n",
    "\n",
    "<center>by Mimi Gong</center>"
   ]
  },
  {
   "cell_type": "markdown",
   "metadata": {},
   "source": [
    "---\n",
    "## Definition\n",
    "\n",
    "An ordinary differential equation is an expression which relates function to the ordinary derivatives.\n",
    "One the most common differential equations used in physical application is Newton’s law: F = ma. Acceleration is the second derivative of a displacement function x(t).\n",
    "\n",
    "##  Applications\n",
    "\n",
    "Population model is a common application of ordinary differential equations in my field:conservation studies, and has been widely studied in ecology to model the population growth of many species including species in mangrove forests. More broadly, population models has been widely adopted in development studies, which is to depict development changes over time by ODEs. \n",
    "In a dynamic system, the 'dynamics' is characterized by constant change of progress.These developments can happen in individual, between two individuals, or among a group of people(such as a family system). Moreover, the development can be measured on short or long time scales, depending on the phenomenon of interest. They can occurs over long spans of time(decades), short time spans(seconds or less) or time scales in between.\n",
    "\n",
    "To quantitatively measure the 'dynamics', we need to be specific on how the system changes and how these interrelationships are defined. Therefore, mathematicaly form to the nature of the changes, such as ODEs can be assigned to achieve the goal.Theoretically, we conceptualize that developmental changes occur in a lawful form, and are initiated, modelrated or regulated by forces within and outside of an individual.  This is where and how differential equations are applied to dynamical system theory. \n",
    "\n",
    "In brief, a differential equation is a function to describe how a variable changes over a period of time relative to itself and/or other parameters. This is in contrast to traditional growth modeling, where the growth function describes the overall shape(or functional form) of the growth curve. "
   ]
  },
  {
   "cell_type": "markdown",
   "metadata": {},
   "source": [
    "---\n",
    "# References\n",
    "\n",
    "1. Price, G. J., Louys, J., Faith, J. T., Lorenzen, E., & Westaway, M. C. (2018). Big data little help in megafauna mysteries. Nature, 558(7708), 23–25. https://doi.org/10.1038/d41586-018-05330-7\n",
    "2. Introductory ODEs | Quantdev. (n.d.). Retrieved March 29, 2020, from https://quantdev.ssri.psu.edu/tutorials/introductory-odes\n",
    "3.Luo, H. (n.d.). Population Modeling by Differential Equations. 31.\n"
   ]
  }
 ],
 "metadata": {
  "anaconda-cloud": {},
  "kernelspec": {
   "display_name": "Python 3",
   "language": "python",
   "name": "python3"
  },
  "language_info": {
   "codemirror_mode": {
    "name": "ipython",
    "version": 3
   },
   "file_extension": ".py",
   "mimetype": "text/x-python",
   "name": "python",
   "nbconvert_exporter": "python",
   "pygments_lexer": "ipython3",
   "version": "3.7.3"
  }
 },
 "nbformat": 4,
 "nbformat_minor": 1
}
