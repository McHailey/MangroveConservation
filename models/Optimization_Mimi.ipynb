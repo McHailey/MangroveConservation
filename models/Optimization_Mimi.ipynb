{
 "cells": [
  {
   "cell_type": "markdown",
   "metadata": {},
   "source": [
    "# <center>Using Optimization to link public perception with mangrove conservation and deforestation</center>\n",
    "\n",
    "<center>by Mimi Gong</center>"
   ]
  },
  {
   "cell_type": "markdown",
   "metadata": {},
   "source": [
    "\n",
    "From previous proposal, I have demonstrated that it would be an interesting topic to see how different ideologies in mangrove conservation flow between systems and how the changes of perception are related to mangrove deforestation in the real-world. Our key questions addressed in this research are: a) What are the values/perceptions related to mangrove conservation?  b) How values/perceptions are changing with time? c) Does that align with government/non-government policy and actions and turn into conservation success? \n",
    "\n",
    "In terms of the last research question, to link these perceptions with real-world policies on conservation and mangrove deforestation, optimization methods are one of the best analytical method to apply. The most common optimization way would be through mathematical models. By translating this real-world problem into a tractable mathematical formulation, we can apply theoretical and empirical analysis in providing insights, answers and guidance to originate the direction in answering the question. For example, regression analysis, one of the most commonly used mathematical formulation, is to set a series of statistical processes for estimating the relationships between dependent variables with potential indicators of interests. Through the process, we identify the best parameters to fit in with the dependent variable. This process is usually referred to parameter optimization or model optimization. In addition, we can identify whether the indicators of interests are statistically significant in explaining our dependent variables(Dietz, 2017). \n",
    "\n",
    "In our case, we applied regression analysis for panel data to link dependent variable: mangrove forest cover change with some explanatory variables, including our indicator of interest: public perceptions from social media platform related to mangrove deforestation and conservation. The linear regression analysis can help us to understand whether we can find an optimization answer to closely fits the data and statistically link public perceptions to mangrove forest change. In addition, the linear regression analysis can exclude unnecessary indicators from the model and find the best combination of parameters related to perceptions to fit into the line. \n",
    "\n",
    "Regression analysis in our case for mainly for two purposes, one is for explanation, the other is for prediction. First of all, this regression analysis can be used to quantitatively exam the theoretical understanding on how people’s value to environmental problems are related to real-world mangrove forest change. The analysis will provide empirical evidence on current theories(Dietz, 2013). Second, the analysis can provide us more understandings on how the changes in people’s perception can potentially lead to the changes in real-world mangrove loss. This understanding can predict the trend that how people’s value change is linked with mangrove forest change in the future. \n"
   ]
  },
  {
   "cell_type": "markdown",
   "metadata": {},
   "source": [
    "---\n",
    "# References\n",
    "\n",
    "Dietz, T. (2013). Bringing values and deliberation to science communication. Proceedings of the National Academy of Sciences, 110(Supplement_3), 14081–14087. https://doi.org/10.1073/pnas.1212740110\n",
    "\n",
    "Dietz, Thomas. (2017). Drivers of Human Stress on the Environment in the Twenty-First Century. Annual Review of Environment and Resources, 42(1), 189–213. https://doi.org/10.1146/annurev-environ-110615-085440\n"
   ]
  }
 ],
 "metadata": {
  "anaconda-cloud": {},
  "kernelspec": {
   "display_name": "Python 3",
   "language": "python",
   "name": "python3"
  },
  "language_info": {
   "codemirror_mode": {
    "name": "ipython",
    "version": 3
   },
   "file_extension": ".py",
   "mimetype": "text/x-python",
   "name": "python",
   "nbconvert_exporter": "python",
   "pygments_lexer": "ipython3",
   "version": "3.7.3"
  }
 },
 "nbformat": 4,
 "nbformat_minor": 1
}
