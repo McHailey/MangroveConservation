{
 "cells": [
  {
   "cell_type": "markdown",
   "metadata": {},
   "source": [
    "# <center>Revealing complex effects of human activities on tropical mammals through Agent-based modeling</center>\n",
    "\n",
    "<center>by Mimi Gong</center>"
   ]
  },
  {
   "cell_type": "markdown",
   "metadata": {},
   "source": [
    "I have taken GEOSimulation(GEO866) from department of geography before, the project below is my research project using agent-based modeling in that course. It is a good example to explain how ABM can be used in my research field.\n",
    "\n",
    "1. Introduction & Background\n",
    "\n",
    "Globalization increasingly connects distant countries and regions through telecoupling processes (social or environmental interactions over distances) (Liu et al. 2013), such as international trade of goods and services. This new anthropogenic trend has generated profound socioeconomic and environmental impacts around the world. Access to outside markets can lead to unsustainable extraction of natural resources in ecologically fragile areas, such as illegal poaching and deforestation in tropical areas (Kramer et al. 2009). \n",
    "\n",
    "Tropical areas such as the Amazon and the rainforests of southeastern Asia are the most species-rich biomes, containing several million species of insects, plants, birds, and other forms of life, many still unrecorded by science. However, rapid human population growth and resource consumption, and intensive human activities threaten biodiversity and ecosystems globally. Malaysia and Indonesia account for over 90% of the world's total oil palm production area (Sumathi et al. 2008), and the production of this commodity has more than doubled. Further, the land area harvested for palm oil in the rainforests of Southeast Asia has tripled in the last decade alone. Driven by both local and distant demand for timber and commercial agriculture, the region's forests are in peril due to agriculture, logging (both legal and illegal), and encroaching oil palm plantations. In addition, rare and indigenous animals are also under threat. Illegal hunting has driven many endemic tropical plant and animal species to the brink of endangerment and even extinction (Harrison 2016), subsequently disturbing the biological equilibrium that keeps a rainforest stable and healthy. \n",
    "\n",
    "Research teams have used photos from camera traps to assess how selective logging and hunting activities influence the local abundance of mammals (Granados et al. 2016, Hairah et al. 2017) or particular species (Brodie et al. 2015a). However, much of this research has been at a small scale, and few studies have examined these dynamics at broader scales (e.g., landscape scale). Thus, a holistic understanding of the impacts of human activities on biodiversity is lacking. Such a knowledge gap hinders effective biodiversity and land conservation. Besides, the impacts of logging and hunting activities are often difficult to parse out from other causes, particularly because they are widespread and often occur concomitantly with other pressures (Brodie et al. 2015b). These effects are often complex and can vary from one context to another, and the effects of these human disturbance are usually nonlinear, involving feedbacks and interactions. In some instances, logging activities reduce habitat quality (e.g., habitat loss and reduced canopy cover) for many species, particularly those with wide geographic ranges or that rely heavily on closed-canopy forests. In other instances, logging may benefit other rainforest-dwelling species by favorably altering food web interactions for them. Traditional short-term, small scale observation-based approaches are not sufficient for capturing the complexity of this coupled human-natural system in the tropics. The developments of agent-based models (ABM) in recent decades may offer effective solution to this issue. Systems models are known for their capacity to synthesize and integrate data and knowledge from various disciplines to simulate emergent systems’ dynamics that are difficult to obtain in empirical studies. In this study, we developed agent-based models to simulate and evaluate how human activities (e.g., hunting and logging) impact the mammal abundance in Borneo, a threatened tropics. \n",
    "\n",
    "2. Research Questions\n",
    "\n",
    "How does hunting impact the abundance and biodiversity of mammals of differing size and monetary value?\n",
    "\n",
    "3. Case Description\n",
    "\n",
    "3.1 Study Area\n",
    "\n",
    "Borneo, the world's third largest island, accounts for just 1% of the world's land, yet its lush tropical rainforests are home to approximately 6% of the world’s biodiversity. As more than one million people live in this island directly depend on forests for their livelihoods, food, income, water and culture (Van et al 2012). Borneo’s rainforests are being cut and degraded for timber, palm oil, pulp, rubber and minerals. It is reported that 56% of protected lowland tropical rainforests in Borneo were cut down between 1985 and 2001 to meet global timber demand. Forest cover on the island decreased from 73.3% in 1985 to 44.4% in 2010, and is projected to continuously decrease to 32.6% by 2020 (Tsujino et al 2016). \n",
    "\n",
    "Besides, rampant poaching, driven by growth in illegal wildlife trade, poses a grave threat to Borneo’s endangered species. The endangered pangolin is the most common mammal in international trade. They are taken from across all of Asia to meet the demand for use in traditional medicines, and for meat. A 2010 TRAFFIC (the wildlife trade monitoring network) report estimated that one group in the Malaysian state of Sabah was responsible for taking 22,000 pangolins over 18 months. The pangolin in Borneo has been listed as Endangered on the IUCN Red List. The orangutan, another indigenous, rare mammal, is also in high demand due to a flourishing pet trade. Studies indicate that 200-500 orangutans from Indonesian Borneo alone enter the pet trade each year (Sodhi et al 2006). This represents a real threat to wild orangutan populations as orangutans have an extremely low reproductive rate. \n",
    "\n",
    "Population growth, along with increasing demand for agricultural land and other products from the rainforest, have significant impacts on the ability of natural ecosystems to support biodiversity and to continue to supply various ecosystem services to people across the island of Borneo.\n",
    "\n",
    "\n",
    "3.2 Data Sources\n",
    "\n",
    "Land cover data were extracted from MODIS Land Cover dataset in 2001 using Google Earth Engine (https://code.earthengine.google.com/c1b4024ba65a4c970ef5a02a881263a1). This product provides data that allows for classifying global land cover, including 16 land cover types with a spatial resolution of 500 meters. Because most the area in our study region is forest and cropland, and for the sake of simplicity, we reduced the land cover to three types: forest, logging sites and cropland (Fig.1). Specifically, Evergreen needle leaf forest, Evergreen broadleaf forest, Deciduous needle leaf forest, Deciduous broadleaf forest, Mixed forest were merged to forest (class 1); Croplands and Cropland/natural vegetation mosaic were merged to cropland (class 2); and other cover types were merged to logging sites (class 0). The reclassified land cover data was resampled to 1000 meters and clipped to a regular square with 71 rows and 71 columns. \n",
    "\n",
    "4. Methods\n",
    "\n",
    "4.1 Justification for Using an ABM Approach \n",
    "\n",
    "ABM is an appropriate approach for addressing this research question because it allows for consideration of heterogeneity between individual agents and of interactions between agents and the environment and interactions between different agents. It also allows for modeling the aggregate effects of individual agents’ behaviors that can often result in emergence. Our study system involves heterogeneous human agents and mammal agents that interact with their environment and with each other. \n",
    "\n",
    "\n",
    "4.2 Model Description\n",
    "\n",
    "\n",
    "The first iteration of the model examines the effect of hunting on mammal abundance and biodiversity. Hunters move around the environment, which is entirely forest, and hunt mammals of varying financial value. Each hunter has a certain financial budget that allows the hunter to hunt. The budget decreases with each time step (whether or not the hunter successfully hunts a mammal and moves to a new location) and increases according to the value of the mammals they successfully hunt. Large mammals are of greatest value to hunters, small mammals are of second greatest value, and other mammals are of least value.\n",
    "\n",
    "At initialization, hunters and mammals are randomly distributed across the landscape. Each hunter has certain amount of budget (a random value within a set range). During each time tick, hunters assess the cells in their immediate neighborhood (adjacent cells) to identify and hunt (kill) the mammal with the greatest financial value. If there are multiple mammals of equal greatest value, the hunter will randomly choose a mammal to hunt. Once a mammal is hunted, it disappears from the landscape. The hunter’s location is updated to the cell where the hunted mammal was previously present. If a hunter’s budget drops to zero, the hunter will disappear from the landscape, representing the hunter’s transition to other means of making a living, such as logging or farming. If there are no mammals within a hunter’s neighborhood, the hunter remains in place. If one of the hunter’s budgets increases after one time tick, one more hunter agent will be generated, representing the recruitment of more hunters if hunting is profitable.\n",
    "\n",
    "The abundance of each class of mammals is also influenced by the dynamics of other classes of mammals. For every large mammal that is hunted, two more “small mammals” will appear on the landscape at two random locations, and one randomly chosen “other mammal” will disappear (mimic the food cycle). For every small mammal that is hunted, one randomly chosen large mammal will disappear, and two other mammals will appear at random locations on the landscape. Mammals do not move across the landscape.\n",
    "\n",
    "First, we performed a local scale analysis with a 10x10 grid. Then we scaled up to a 20x20 grid and a 71x71 grid, using the same proportions of different mammal types and the same variation in the number of human agents from 1-5 hunters. Ten runs (N=10) were performed for each number of agents per scale for a total of 50 runs. Each run lasted for 60 time ticks. See Table 1 in the Appendix for model parameters and their corresponding values. Refer to Figure 2 for a diagram of the model.\n",
    "\n"
   ]
  },
  {
   "cell_type": "markdown",
   "metadata": {},
   "source": [
    "---\n",
    "# References\n",
    "\n",
    "Benitez-Lopez, A., Alkemade, R., Schipper, A.M., Ingram, D.J., Verweij, P.A., Eikelboom, J., and Huijbregts, M.A.J. 2017. The impact of hunting on tropical mammal and bird populations. Science, 356(6334):180-183.\n",
    "Brodie, J.F., Giordano, A.J., and Ambu, L. 2015a. “Differential responses of large mammals to logging and edge effects.” Mammalian Biology, 80(1):7-13. \n",
    "\n",
    "Brodie, J. F., Giordano, A. J., Zipkin, E. F., Bernard, H., Mohd‐Azlan, J., & Ambu, L. 2015b. Correlation and persistence of hunting and logging impacts on tropical rainforest mammals. Conservation Biology, 29(1), 110-121.\n",
    "\n",
    "Granados, A., Crowther, K., Brodie, J. F., & Bernard, H. 2016. Persistence of mammals in a selectively logged forest in Malaysian Borneo. Mammalian Biology-Zeitschrift für Säugetierkunde, 81(3), 268-273.\n",
    "\n",
    "Hairah, U., Tejawati, A., Budiman, E., & Agus, F. (2017, October). Borneo biodiversity: Exploring endemic tree species and wood characteristics. In Science in Information Technology (ICSITech), 2017 3rd International Conference on (pp. 435-440). IEEE.\n",
    "Harrison, R.D., Rachakonda, S., Brodie, J.F., Brook, S., Luskin, M., O’Kelly, H., Rao, M., Scheffers, B. and Velho, N. 2016. “Impacts of Hunting on Tropical Forests in Southeast Asia: Hunting in Tropical Forests.” Conservation Biology 30(5):972–81. \n",
    "\n",
    "Kramer, D. B., Urquhart, G. & Schmitt, K. 2009. Globalization and the connection of remote communities: A review of household effects and their biodiversity implications. Ecol. Econ. 68, 2897-2909, doi:10.1016/j.ecolecon.2009.06.026\n",
    "\n",
    "Liu, J., V. Hull, M. Batistella, R. DeFries, T. Dietz, F. Fu, T. W. Hertel, R. C. Izaurralde, E. F. Lambin, S. Li, L. A. Martinelli, W. J. McConnell, E. F. Moran, R. Naylor, Z. Ouyang, K. R. Polenske, A. Reenberg, G. de Miranda Rocha, C. S. Simmons, P. H. Verburg, P. M. Vitousek, F. Zhang, and C. Zhu. 2013. Framing sustainability in a telecoupled world. Ecology and Society 18(2): 26.\n",
    "\n",
    "Ligmann‐Zielinska, A., Church, R. L., & Jankowski, P. 2008. Spatial optimization as a generative technique for sustainable multi-objective land‐use allocation. International Journal of Geographical Information Science, 22(6), 601-622.\n",
    "\n",
    "Sodhi, N. S., & Brook, B. W. 2006. Southeast Asian biodiversity in crisis. Cambridge University Press.\n",
    "\n",
    "Sumathi, S., Chai, S. P., & Mohamed, A. R. 2008. Utilization of oil palm as a source of renewable energy in Malaysia. Renewable and Sustainable Energy Reviews, 12(9), 2404-2421.\n",
    "\n",
    "Tsujino, R., Yumoto, T., Kitamura, S., Djamaluddin, I., & Darnaedi, D. 2016. History of forest loss and degradation in Indonesia. Land Use Policy, 57, 335-347.\n",
    "\n",
    "Van Paddenburg, A., Bassi, A., Buter, E., Cosslett C. & Dean, A. 2012. Heart of Borneo: Investing in Nature for a Green Economy. WWF Heart of Borneo Global Initiative, Jakarta.\n"
   ]
  }
 ],
 "metadata": {
  "anaconda-cloud": {},
  "kernelspec": {
   "display_name": "Python 3",
   "language": "python",
   "name": "python3"
  },
  "language_info": {
   "codemirror_mode": {
    "name": "ipython",
    "version": 3
   },
   "file_extension": ".py",
   "mimetype": "text/x-python",
   "name": "python",
   "nbconvert_exporter": "python",
   "pygments_lexer": "ipython3",
   "version": "3.7.3"
  }
 },
 "nbformat": 4,
 "nbformat_minor": 1
}
